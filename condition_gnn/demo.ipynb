{
 "cells": [
  {
   "cell_type": "code",
   "execution_count": 1,
   "id": "c32dc136",
   "metadata": {},
   "outputs": [
    {
     "name": "stdout",
     "output_type": "stream",
     "text": [
      "Loading optimal set of parameters...\n",
      "tau set to 10\n",
      "confgnn_lr set to 0.001\n",
      "target_size set to 1\n",
      "size_loss_weight set to 0.001\n",
      "confnn_hidden_dim set to 256\n",
      "confgnn_base_model set to GraphSAGE\n",
      "confgnn_num_layers set to 3\n"
     ]
    },
    {
     "name": "stderr",
     "output_type": "stream",
     "text": [
      "\r",
      "  0%|          | 0/1 [00:00<?, ?it/s]\r",
      "100%|██████████| 1/1 [03:04<00:00, 184.96s/it]\r",
      "100%|██████████| 1/1 [03:04<00:00, 184.96s/it]\n"
     ]
    },
    {
     "name": "stdout",
     "output_type": "stream",
     "text": [
      "loading saved base model...\n",
      "Starting topology-aware conformal correction...\n",
      "Finished training this run!\n",
      "Saving results to ./pred/optimal_Anaheim_GCN_conftr_calib_holdout_confgnn.pkl\n"
     ]
    }
   ],
   "source": [
    "%%bash\n",
    "\n",
    "python train.py --model GCN \\\n",
    "                --dataset Anaheim \\\n",
    "                --device cuda:1 \\\n",
    "                --alpha 0.1 \\\n",
    "                --optimal \\\n",
    "                --num_runs 1"
   ]
  },
  {
   "cell_type": "code",
   "execution_count": null,
   "id": "a032357e",
   "metadata": {},
   "outputs": [],
   "source": []
  }
 ],
 "metadata": {
  "kernelspec": {
   "display_name": "Python 3 (ipykernel)",
   "language": "python",
   "name": "python3"
  },
  "language_info": {
   "codemirror_mode": {
    "name": "ipython",
    "version": 3
   },
   "file_extension": ".py",
   "mimetype": "text/x-python",
   "name": "python",
   "nbconvert_exporter": "python",
   "pygments_lexer": "ipython3",
   "version": "3.8.0"
  }
 },
 "nbformat": 4,
 "nbformat_minor": 5
}
